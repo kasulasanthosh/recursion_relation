{
 "cells": [
  {
   "cell_type": "code",
   "execution_count": null,
   "id": "62ce6e34-fd27-4f25-a069-26c7dc06be6d",
   "metadata": {},
   "outputs": [],
   "source": [
    "1. Find the value of T(2) for the recurrence relation T(n) = 3T(n-1) + 12n, given that T(0)=5.\n",
    "\n",
    "T(n)=3T(n-1)+12n\n",
    "sub n=1\n",
    "T(1)=3T(0)+12\n",
    "T(1)=15+12=27\n",
    "\n",
    "Now sub n=2\n",
    "T(2)=3T(1)+24\n",
    "T(2)=3(27)+24=105"
   ]
  },
  {
   "cell_type": "code",
   "execution_count": null,
   "id": "a89c26b1-b0da-4b8e-8986-0ba75ac8f327",
   "metadata": {},
   "outputs": [],
   "source": [
    "2. Given a recurrence relation, solve it using the substitution method:\n",
    "a. T(n) = T(n-1) + c\n",
    "\n",
    "T(n-1)=T(n-2)+c\n",
    "then T(n)=T(n-2)+2c\n",
    "\n",
    "for k times\n",
    "T(n)=T(n-k)+kc\n",
    "\n",
    "k=n-1\n",
    "T(n)=T(1)+(n-1)c\n"
   ]
  },
  {
   "cell_type": "code",
   "execution_count": null,
   "id": "584f9e8e-468b-4be3-bc42-dd0c1ac85462",
   "metadata": {},
   "outputs": [],
   "source": [
    "b. T(n) = 2T(n/2) + n\n",
    "   T(n/2)=2T(n/4)+n/2\n",
    "then T(n)=2(2 T(n/4)+n/2)+n\n",
    "     T(n)=4T(n/4)+2n\n",
    "    for k times\n",
    "    T(n)= 2^k T(n/2^k)+kn\n",
    "    if sub n=2^k we get base case condition\n",
    "    n=2^k then k=logn base2 \n",
    "    T(n)=nT(1)+(logn base2) *n\n",
    "    "
   ]
  },
  {
   "cell_type": "code",
   "execution_count": null,
   "id": "8075b64a-b39a-49a0-bd63-4063d8ec1f12",
   "metadata": {},
   "outputs": [],
   "source": [
    "c. T(n) = 2T(n/2) + c\n",
    "    T(n/2)=2T(n/4)+c\n",
    "    then T(n)=2(2 T(n/4)+c)+c\n",
    "     T(n)=4T(n/4)+3c\n",
    "    for k times\n",
    "    T(n)= 2^k T(n/2^k)+(2k-1)c\n",
    "     if sub n=2^k we get base case condition\n",
    "    n=2^k then k=logn base2 \n",
    "    T(n)=nT(1)+(2(logn base2)-1) *c"
   ]
  },
  {
   "cell_type": "code",
   "execution_count": null,
   "id": "dd875c38-5614-4ecf-9485-022a842343b2",
   "metadata": {},
   "outputs": [],
   "source": [
    "d. T(n) = T(n/2) + c\n",
    " T(n/2)=T(n/4)+c\n",
    "    then T(n)= T(n/4)+c+c\n",
    "     T(n)=T(n/4)+2c\n",
    "    for k times\n",
    "    T(n)= T(n/2^k)+kc\n",
    "     if sub n=2^k we get base case condition\n",
    "    n=2^k then k=logn base2 \n",
    "    T(n)=T(1)+(logn base2)*c"
   ]
  },
  {
   "cell_type": "code",
   "execution_count": null,
   "id": "a0c0c9b2-5b63-468b-a432-f11df6c81b07",
   "metadata": {},
   "outputs": [],
   "source": [
    "3. Given a recurrence relation, solve it using the recursive tree approach:\n",
    "a. T(n) = 2T(n-1) +1\n",
    "            T(n)\n",
    "           /    \\\n",
    "      T(n-1)      T(n-1)\n",
    "        /  \\          /   \\\n",
    "    T(n-2) T(n-2) T(n-2) T(n-2)\n",
    "      ...   ...   ...   ...\n",
    "       |     |     |     |\n",
    "  \n",
    "for k times\n",
    "LEFT SIDE              RIGHT SIDE\n",
    "n-k=0                   n-k=0\n",
    "Now, let's calculate the cost at each level:\n",
    "\n",
    "Level 0: 1T(n)\n",
    "Level 1: 2T(n-1)\n",
    "Level 2: 4T(n-2)\n",
    "Level 3: 8T(n-3)\n",
    ".\n",
    ".\n",
    ".\n",
    "T(n)+2T(n−1)+4T(n−2)+8T(n−3)+…+2^kT(n−k)\n",
    "if we sub n-k=1 i.e. k=n-1 we get base case condition\n",
    "T(n)+2T(n−1)+4T(n−2)+8T(n−3)+…+2^(n-1)T(1)\n",
    "by geometric progression \n",
    "T(n)=2^n-T(1)\n",
    "O(2^n)"
   ]
  },
  {
   "cell_type": "code",
   "execution_count": null,
   "id": "716f8500-1860-4e9a-b61b-217290bd9ba6",
   "metadata": {},
   "outputs": [],
   "source": [
    "b. T(n) = 2T(n/2) + n\n",
    "       T(n)---------n\n",
    "       /    \\\n",
    " T(n/2)       T(n/2)-------2(n/2)\n",
    "   / \\          /   \\\n",
    "T(n/4) T(n/4) T(n/4) T(n/4) ------4(n/4)\n",
    "  / \\    ...   ...   ...\n",
    "...  ...\n",
    "Now, let's write the expression for the total cost:\n",
    "LHS\n",
    "n/2^(k)=1        The depth of the tree is logn base 2.\n",
    "k=log n base 2\n",
    "let's calculate the total work done by summing up the work at each level\n",
    "T(n)=n+n/2+n/4+n/8.......+n/2^k\n",
    "T(n)=n(1+1/2+1/4+.........1/2 ^logn base 2)\n",
    "by geometric progression  sum of the series is 1/1-r=2\n",
    "T(n)=n(2)\n",
    "time complexity is  O(n)"
   ]
  }
 ],
 "metadata": {
  "kernelspec": {
   "display_name": "Python 3 (ipykernel)",
   "language": "python",
   "name": "python3"
  },
  "language_info": {
   "codemirror_mode": {
    "name": "ipython",
    "version": 3
   },
   "file_extension": ".py",
   "mimetype": "text/x-python",
   "name": "python",
   "nbconvert_exporter": "python",
   "pygments_lexer": "ipython3",
   "version": "3.10.8"
  }
 },
 "nbformat": 4,
 "nbformat_minor": 5
}
